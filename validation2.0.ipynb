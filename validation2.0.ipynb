{
 "cells": [
  {
   "cell_type": "code",
   "execution_count": 8,
   "id": "c259fb04",
   "metadata": {},
   "outputs": [
    {
     "name": "stdout",
     "output_type": "stream",
     "text": [
      "Rewards: -110.64190347505833 Steps: 72\n"
     ]
    }
   ],
   "source": [
    "import gymnasium as gym\n",
    "env = gym.make(\"LunarLander-v3\", render_mode=\"human\")\n",
    "observation, info = env.reset()\n",
    "rewards = 0\n",
    "steps = 0\n",
    "episode_over = False\n",
    "while not episode_over:\n",
    "    action = env.action_space.sample()  # agent policy that uses the observation and info\n",
    "    observation, reward, terminated, truncated, info = env.step(action)\n",
    "    rewards+= reward\n",
    "    steps += 1\n",
    "    episode_over = terminated or truncated\n",
    "print(f\"Rewards: {rewards} Steps: {steps}\")\n",
    "env.close() "
   ]
  },
  {
   "cell_type": "code",
   "execution_count": 9,
   "id": "61959d14",
   "metadata": {},
   "outputs": [
    {
     "name": "stdout",
     "output_type": "stream",
     "text": [
      "Rewards: -113.49401977615489 Steps: 55\n"
     ]
    }
   ],
   "source": [
    "env = gym.make(\"LunarLander-v3\", render_mode=\"human\")\n",
    "observation, info = env.reset()\n",
    "rewards = 0\n",
    "steps = 0\n",
    "episode_over = False\n",
    "while not episode_over:\n",
    "    action = 0  # agent policy that uses the observation and info\n",
    "    observation, reward, terminated, truncated, info = env.step(action)\n",
    "    rewards+= reward\n",
    "    steps += 1\n",
    "    episode_over = terminated or truncated\n",
    "print(f\"Rewards: {rewards} Steps: {steps}\")\n",
    "env.close() "
   ]
  },
  {
   "cell_type": "code",
   "execution_count": 10,
   "id": "fcb632ed",
   "metadata": {},
   "outputs": [],
   "source": [
    "import numpy as np\n",
    "N_ACTION = 4\n",
    "N_STATE_DIM = 8\n",
    "W = np.zeros((N_ACTION, N_STATE_DIM))\n",
    "EPSILON = 0.1\n",
    "def agent(observation):\n",
    "    if np.random.random() < EPSILON:\n",
    "        return env.action_space.sample()\n",
    "    else:\n",
    "        state = np.array(observation).reshape(-1)\n",
    "        qvals = W @ state\n",
    "        return np.argmax(qvals)\n"
   ]
  },
  {
   "cell_type": "code",
   "execution_count": 11,
   "id": "cc5b6ad0",
   "metadata": {},
   "outputs": [],
   "source": [
    "env = gym.make(\"LunarLander-v3\", render_mode=\"human\")\n",
    "N_EPISODE = 20\n",
    "EPSILON = 0.1\n",
    "DISCOUNT = 1.0\n",
    "learning_rate = 0.001\n",
    "episode_rewards = np.zeros(N_EPISODE)\n",
    "for ep in range(N_EPISODE):\n",
    "    observation, info = env.reset()\n",
    "    while True:\n",
    "        state = np.array(observation).reshape(-1)\n",
    "        action = agent(observation)\n",
    "        new_observation, reward, terminated, truncated, info = env.step(action)\n",
    "\n",
    "        new_state = np.array(new_observation).reshape(-1)\n",
    "        new_action = agent(new_observation)\n",
    "        target = reward + DISCOUNT*np.dot(W[new_action, :], new_state)\n",
    "\n",
    "        W[action, :] += learning_rate * (target - np.dot(W[action, :], state)) * state\n",
    "        episode_rewards[ep] = reward\n",
    "        if terminated or truncated:\n",
    "            break\n",
    "        observation = new_observation\n"
   ]
  },
  {
   "cell_type": "code",
   "execution_count": 12,
   "id": "bfd80f26",
   "metadata": {},
   "outputs": [
    {
     "data": {
      "text/plain": [
       "[<matplotlib.lines.Line2D at 0x1b1efdc7e00>]"
      ]
     },
     "execution_count": 12,
     "metadata": {},
     "output_type": "execute_result"
    },
    {
     "data": {
      "image/png": "[encoded data removed]",
      "text/plain": [
       "<Figure size 640x480 with 1 Axes>"
      ]
     },
     "metadata": {},
     "output_type": "display_data"
    }
   ],
   "source": [
    "import matplotlib.pyplot as plt\n",
    "episode_rewards\n",
    "plt.plot(episode_rewards)"
   ]
  },
  {
   "cell_type": "code",
   "execution_count": 20,
   "id": "0039ca9a",
   "metadata": {},
   "outputs": [],
   "source": [
    "import tensorflow as tf\n",
    "def simple_nn():\n",
    "    x = tf.keras.Input(shape = (8, ))\n",
    "    h1 = tf.keras.layers.Dense(64, activation = 'relu')(x)\n",
    "    h2 = tf.keras.layers.Dense(64, activation = 'relu')(h1)\n",
    "    out = tf.keras.layers.Dense(4)(h2)\n",
    "    return tf.keras.Model(inputs = x, outputs = out)"
   ]
  },
  {
   "cell_type": "code",
   "execution_count": 22,
   "id": "f3c85b9e",
   "metadata": {},
   "outputs": [
    {
     "data": {
      "text/html": [
       "<pre style=\"white-space:pre;overflow-x:auto;line-height:normal;font-family:Menlo,'DejaVu Sans Mono',consolas,'Courier New',monospace\"><span style=\"font-weight: bold\">Model: \"functional\"</span>\n",
       "</pre>\n"
      ],
      "text/plain": [
       "\u001b[1mModel: \"functional\"\u001b[0m\n"
      ]
     },
     "metadata": {},
     "output_type": "display_data"
    },
    {
     "data": {
      "text/html": [
       "<pre style=\"white-space:pre;overflow-x:auto;line-height:normal;font-family:Menlo,'DejaVu Sans Mono',consolas,'Courier New',monospace\">┏━━━━━━━━━━━━━━━━━━━━━━━━━━━━━━━━━┳━━━━━━━━━━━━━━━━━━━━━━━━┳━━━━━━━━━━━━━━━┓\n",
       "┃<span style=\"font-weight: bold\"> Layer (type)                    </span>┃<span style=\"font-weight: bold\"> Output Shape           </span>┃<span style=\"font-weight: bold\">       Param # </span>┃\n",
       "┡━━━━━━━━━━━━━━━━━━━━━━━━━━━━━━━━━╇━━━━━━━━━━━━━━━━━━━━━━━━╇━━━━━━━━━━━━━━━┩\n",
       "│ input_layer (<span style=\"color: #0087ff; text-decoration-color: #0087ff\">InputLayer</span>)        │ (<span style=\"color: #00d7ff; text-decoration-color: #00d7ff\">None</span>, <span style=\"color: #00af00; text-decoration-color: #00af00\">8</span>)              │             <span style=\"color: #00af00; text-decoration-color: #00af00\">0</span> │\n",
       "├─────────────────────────────────┼────────────────────────┼───────────────┤\n",
       "│ dense (<span style=\"color: #0087ff; text-decoration-color: #0087ff\">Dense</span>)                   │ (<span style=\"color: #00d7ff; text-decoration-color: #00d7ff\">None</span>, <span style=\"color: #00af00; text-decoration-color: #00af00\">64</span>)             │           <span style=\"color: #00af00; text-decoration-color: #00af00\">576</span> │\n",
       "├─────────────────────────────────┼────────────────────────┼───────────────┤\n",
       "│ dense_1 (<span style=\"color: #0087ff; text-decoration-color: #0087ff\">Dense</span>)                 │ (<span style=\"color: #00d7ff; text-decoration-color: #00d7ff\">None</span>, <span style=\"color: #00af00; text-decoration-color: #00af00\">64</span>)             │         <span style=\"color: #00af00; text-decoration-color: #00af00\">4,160</span> │\n",
       "├─────────────────────────────────┼────────────────────────┼───────────────┤\n",
       "│ dense_2 (<span style=\"color: #0087ff; text-decoration-color: #0087ff\">Dense</span>)                 │ (<span style=\"color: #00d7ff; text-decoration-color: #00d7ff\">None</span>, <span style=\"color: #00af00; text-decoration-color: #00af00\">4</span>)              │           <span style=\"color: #00af00; text-decoration-color: #00af00\">260</span> │\n",
       "└─────────────────────────────────┴────────────────────────┴───────────────┘\n",
       "</pre>\n"
      ],
      "text/plain": [
       "┏━━━━━━━━━━━━━━━━━━━━━━━━━━━━━━━━━┳━━━━━━━━━━━━━━━━━━━━━━━━┳━━━━━━━━━━━━━━━┓\n",
       "┃\u001b[1m \u001b[0m\u001b[1mLayer (type)                   \u001b[0m\u001b[1m \u001b[0m┃\u001b[1m \u001b[0m\u001b[1mOutput Shape          \u001b[0m\u001b[1m \u001b[0m┃\u001b[1m \u001b[0m\u001b[1m      Param #\u001b[0m\u001b[1m \u001b[0m┃\n",
       "┡━━━━━━━━━━━━━━━━━━━━━━━━━━━━━━━━━╇━━━━━━━━━━━━━━━━━━━━━━━━╇━━━━━━━━━━━━━━━┩\n",
       "│ input_layer (\u001b[38;5;33mInputLayer\u001b[0m)        │ (\u001b[38;5;45mNone\u001b[0m, \u001b[38;5;34m8\u001b[0m)              │             \u001b[38;5;34m0\u001b[0m │\n",
       "├─────────────────────────────────┼────────────────────────┼───────────────┤\n",
       "│ dense (\u001b[38;5;33mDense\u001b[0m)                   │ (\u001b[38;5;45mNone\u001b[0m, \u001b[38;5;34m64\u001b[0m)             │           \u001b[38;5;34m576\u001b[0m │\n",
       "├─────────────────────────────────┼────────────────────────┼───────────────┤\n",
       "│ dense_1 (\u001b[38;5;33mDense\u001b[0m)                 │ (\u001b[38;5;45mNone\u001b[0m, \u001b[38;5;34m64\u001b[0m)             │         \u001b[38;5;34m4,160\u001b[0m │\n",
       "├─────────────────────────────────┼────────────────────────┼───────────────┤\n",
       "│ dense_2 (\u001b[38;5;33mDense\u001b[0m)                 │ (\u001b[38;5;45mNone\u001b[0m, \u001b[38;5;34m4\u001b[0m)              │           \u001b[38;5;34m260\u001b[0m │\n",
       "└─────────────────────────────────┴────────────────────────┴───────────────┘\n"
      ]
     },
     "metadata": {},
     "output_type": "display_data"
    },
    {
     "data": {
      "text/html": [
       "<pre style=\"white-space:pre;overflow-x:auto;line-height:normal;font-family:Menlo,'DejaVu Sans Mono',consolas,'Courier New',monospace\"><span style=\"font-weight: bold\"> Total params: </span><span style=\"color: #00af00; text-decoration-color: #00af00\">4,996</span> (19.52 KB)\n",
       "</pre>\n"
      ],
      "text/plain": [
       "\u001b[1m Total params: \u001b[0m\u001b[38;5;34m4,996\u001b[0m (19.52 KB)\n"
      ]
     },
     "metadata": {},
     "output_type": "display_data"
    },
    {
     "data": {
      "text/html": [
       "<pre style=\"white-space:pre;overflow-x:auto;line-height:normal;font-family:Menlo,'DejaVu Sans Mono',consolas,'Courier New',monospace\"><span style=\"font-weight: bold\"> Trainable params: </span><span style=\"color: #00af00; text-decoration-color: #00af00\">4,996</span> (19.52 KB)\n",
       "</pre>\n"
      ],
      "text/plain": [
       "\u001b[1m Trainable params: \u001b[0m\u001b[38;5;34m4,996\u001b[0m (19.52 KB)\n"
      ]
     },
     "metadata": {},
     "output_type": "display_data"
    },
    {
     "data": {
      "text/html": [
       "<pre style=\"white-space:pre;overflow-x:auto;line-height:normal;font-family:Menlo,'DejaVu Sans Mono',consolas,'Courier New',monospace\"><span style=\"font-weight: bold\"> Non-trainable params: </span><span style=\"color: #00af00; text-decoration-color: #00af00\">0</span> (0.00 B)\n",
       "</pre>\n"
      ],
      "text/plain": [
       "\u001b[1m Non-trainable params: \u001b[0m\u001b[38;5;34m0\u001b[0m (0.00 B)\n"
      ]
     },
     "metadata": {},
     "output_type": "display_data"
    }
   ],
   "source": [
    "model = simple_nn()\n",
    "model.summary()"
   ]
  },
  {
   "cell_type": "code",
   "execution_count": 23,
   "id": "4815e56f",
   "metadata": {},
   "outputs": [
    {
     "name": "stdout",
     "output_type": "stream",
     "text": [
      "tf.Tensor([[-1.0312848 -1.4232503 -1.4366331  1.5011178]], shape=(1, 4), dtype=float32)\n"
     ]
    }
   ],
   "source": [
    "state = env.observation_space.sample()   # we sample one observation\n",
    "x = model(tf.convert_to_tensor([state]))  # run the model on it,\n",
    "print(x)"
   ]
  },
  {
   "cell_type": "code",
   "execution_count": 24,
   "id": "d15bf7d6",
   "metadata": {},
   "outputs": [
    {
     "name": "stdout",
     "output_type": "stream",
     "text": [
      "kernel, shape: (8, 64)\n",
      "bias, shape: (64,)\n",
      "kernel, shape: (64, 64)\n",
      "bias, shape: (64,)\n",
      "kernel, shape: (64, 4)\n",
      "bias, shape: (4,)\n"
     ]
    }
   ],
   "source": [
    "observation, info = env.reset()\n",
    "with tf.GradientTape() as t:\n",
    "    action_probs = model(tf.convert_to_tensor([observation]))\n",
    "    new_observation, reward, terminated, truncated, info = env.step(action)\n",
    "\n",
    "    new_action_probs = model(tf.convert_to_tensor([new_observation]))\n",
    "    target = reward + DISCOUNT * tf.math.reduce_max(new_action_probs)\n",
    "    loss = (target - tf.math.reduce_max(action_probs))**2\n",
    "    grad = t.gradient(loss, model.trainable_variables)\n",
    "\n",
    "for var, g in zip(model.trainable_variables, grad):\n",
    "    print(f'{var.name}, shape: {g.shape}')"
   ]
  },
  {
   "cell_type": "code",
   "execution_count": 27,
   "id": "24760983",
   "metadata": {},
   "outputs": [
    {
     "data": {
      "text/plain": [
       "<Variable path=SGD/iteration, shape=(), dtype=int64, value=1>"
      ]
     },
     "execution_count": 27,
     "metadata": {},
     "output_type": "execute_result"
    }
   ],
   "source": [
    "optimizer = tf.keras.optimizers.SGD(learning_rate=1e-3) # Instantiate an optimizer\n",
    "# Run one step of gradient descent by updating the value of the variables to minimize the loss.\n",
    "optimizer.apply_gradients(zip(grad, model.trainable_weights))"
   ]
  },
  {
   "cell_type": "code",
   "execution_count": 28,
   "id": "fe763ae0",
   "metadata": {},
   "outputs": [],
   "source": [
    "N_EPISODE = 20\n",
    "EPSILON = 0.1\n",
    "DISCOUNT_FACTOR = 1.0\n",
    "LR = 1e-3\n",
    "optimizer = tf.keras.optimizers.SGD(learning_rate = LR)\n",
    "episode_rewards = np.zeros(N_EPISODE)\n",
    "for ep in range(N_EPISODE):\n",
    "    observation, info = env.reset()\n",
    "    while True:\n",
    "        with tf.GradientTape() as t:\n",
    "            action_probs = model(tf.convert_to_tensor([observation]))\n",
    "            action = np.argmax(action_probs.numpy()[0])\n",
    "            if np.random.random() < EPSILON:\n",
    "                action = env.action_space.sample()\n",
    "            new_observation, reward, terminated, truncated, info = env.step(action)\n",
    "\n",
    "            new_action_probs = model(tf.convert_to_tensor([new_observation]))\n",
    "            target = reward+DISCOUNT_FACTOR*tf.math.reduce_max(new_action_probs)\n",
    "\n",
    "            loss = (target-action_probs.numpy()[0][action])**2\n",
    "            grad = t.gradient(loss, model.trainable_variables)\n",
    "\n",
    "            optimizer.apply_gradients(zip(grad, model.trainable_weights))\n",
    "            episode_rewards[ep] += reward\n",
    "            if terminated or truncated:\n",
    "                break\n",
    "            observation = new_observation\n",
    "\n"
   ]
  },
  {
   "cell_type": "code",
   "execution_count": null,
   "id": "41fcd5b6",
   "metadata": {},
   "outputs": [],
   "source": [
    "plt.plot(episode_rewards)"
   ]
  }
 ],
 "metadata": {
  "kernelspec": {
   "display_name": "gymenv",
   "language": "python",
   "name": "python3"
  },
  "language_info": {
   "codemirror_mode": {
    "name": "ipython",
    "version": 3
   },
   "file_extension": ".py",
   "mimetype": "text/x-python",
   "name": "python",
   "nbconvert_exporter": "python",
   "pygments_lexer": "ipython3",
   "version": "3.12.9"
  }
 },
 "nbformat": 4,
 "nbformat_minor": 5
}
